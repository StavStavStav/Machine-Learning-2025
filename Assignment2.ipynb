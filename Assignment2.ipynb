{
 "cells": [
  {
   "cell_type": "markdown",
   "metadata": {},
   "source": [
    "Part 2:Programming Task- Build a CNN to correctly classify objects in the Fashion MNIST dataset."
   ]
  },
  {
   "cell_type": "code",
   "execution_count": 1,
   "metadata": {},
   "outputs": [
    {
     "name": "stderr",
     "output_type": "stream",
     "text": [
      "2025-03-07 11:24:55.349670: I tensorflow/core/util/port.cc:110] oneDNN custom operations are on. You may see slightly different numerical results due to floating-point round-off errors from different computation orders. To turn them off, set the environment variable `TF_ENABLE_ONEDNN_OPTS=0`.\n",
      "2025-03-07 11:24:55.351325: I tensorflow/tsl/cuda/cudart_stub.cc:28] Could not find cuda drivers on your machine, GPU will not be used.\n",
      "2025-03-07 11:24:55.380413: I tensorflow/tsl/cuda/cudart_stub.cc:28] Could not find cuda drivers on your machine, GPU will not be used.\n",
      "2025-03-07 11:24:55.381117: I tensorflow/core/platform/cpu_feature_guard.cc:182] This TensorFlow binary is optimized to use available CPU instructions in performance-critical operations.\n",
      "To enable the following instructions: AVX2 AVX512F AVX512_VNNI AVX512_BF16 FMA, in other operations, rebuild TensorFlow with the appropriate compiler flags.\n",
      "2025-03-07 11:24:55.843503: W tensorflow/compiler/tf2tensorrt/utils/py_utils.cc:38] TF-TRT Warning: Could not find TensorRT\n"
     ]
    }
   ],
   "source": [
    "#loading in tensor flow and importing data/other needed\n",
    "import tensorflow as tf\n",
    "import matplotlib.pyplot as plt\n",
    "import pandas as pd\n",
    "import tensorflow.keras as keras\n",
    "from d2l import tensorflow as d2l\n",
    "from tensorflow.keras.datasets import fashion_mnist\n",
    "fmnist = tf.keras.datasets.fashion_mnist\n",
    "\n",
    "# Load in data from CSV files\n",
    "train_df = pd.read_csv(\"/home/sv6393/MachineLearning/sign_mnist_train.csv\")\n",
    "valid_df = pd.read_csv(\"/home/sv6393/MachineLearning/sign_mnist_valid.csv\")"
   ]
  },
  {
   "cell_type": "code",
   "execution_count": 2,
   "metadata": {},
   "outputs": [],
   "source": [
    "# Separate target values\n",
    "y_train = train_df['label']\n",
    "y_valid = valid_df['label']\n",
    "del train_df['label']\n",
    "del valid_df['label']\n",
    "\n",
    "# Separate image vectors\n",
    "x_train = train_df.values\n",
    "x_valid = valid_df.values\n",
    "\n",
    "# Create Binary categories from targets\n",
    "num_classes = 24\n",
    "y_train = keras.utils.to_categorical(y_train, num_classes)\n",
    "y_valid = keras.utils.to_categorical(y_valid, num_classes)\n",
    "\n",
    "# Normalization\n",
    "x_train = x_train / 255\n",
    "x_valid = x_valid / 255"
   ]
  },
  {
   "cell_type": "code",
   "execution_count": 3,
   "metadata": {},
   "outputs": [
    {
     "name": "stdout",
     "output_type": "stream",
     "text": [
      "New Shape: (27455, 28, 28, 1) (7172, 28, 28, 1)\n"
     ]
    }
   ],
   "source": [
    "#Image Reshaping:\n",
    "x_train = x_train.reshape(-1,28,28,1)\n",
    "x_valid = x_valid.reshape(-1,28,28,1)\n",
    "\n",
    "print(\"New Shape:\", x_train.shape, x_valid.shape)"
   ]
  },
  {
   "cell_type": "code",
   "execution_count": 13,
   "metadata": {},
   "outputs": [],
   "source": [
    "#Model Creation:\n",
    "from tensorflow.keras.models import Sequential\n",
    "from tensorflow.keras.layers import (Dense,Conv2D,MaxPool2D,Flatten,Dropout,BatchNormalization,)\n",
    "\n",
    "model = Sequential()\n",
    "model.add(Conv2D(65, (4, 4), strides=1, padding=\"same\", activation=\"relu\",\n",
    "                 input_shape=(28, 28, 1)))\n",
    "model.add(BatchNormalization())\n",
    "model.add(MaxPool2D((2, 2), strides=2, padding=\"same\"))\n",
    "model.add(Conv2D(50, (3, 3), strides=1, padding=\"same\", activation=\"relu\"))\n",
    "model.add(Dropout(0.2))\n",
    "model.add(BatchNormalization())\n",
    "model.add(MaxPool2D((2, 2), strides=2, padding=\"same\"))\n",
    "model.add(Conv2D(25, (3, 3), strides=1, padding=\"same\", activation=\"relu\"))\n",
    "model.add(BatchNormalization())\n",
    "model.add(MaxPool2D((2, 2), strides=2, padding=\"same\"))\n",
    "model.add(Flatten())\n",
    "model.add(Dense(units=512, activation=\"relu\"))\n",
    "model.add(Dropout(0.3))\n",
    "model.add(Dense(units=num_classes, activation=\"softmax\"))\n"
   ]
  },
  {
   "cell_type": "code",
   "execution_count": 14,
   "metadata": {},
   "outputs": [
    {
     "name": "stdout",
     "output_type": "stream",
     "text": [
      "Model: \"sequential_3\"\n",
      "_________________________________________________________________\n",
      " Layer (type)                Output Shape              Param #   \n",
      "=================================================================\n",
      " conv2d_9 (Conv2D)           (None, 28, 28, 65)        1105      \n",
      "                                                                 \n",
      " batch_normalization_9 (Batc  (None, 28, 28, 65)       260       \n",
      " hNormalization)                                                 \n",
      "                                                                 \n",
      " max_pooling2d_9 (MaxPooling  (None, 14, 14, 65)       0         \n",
      " 2D)                                                             \n",
      "                                                                 \n",
      " conv2d_10 (Conv2D)          (None, 14, 14, 50)        29300     \n",
      "                                                                 \n",
      " dropout_6 (Dropout)         (None, 14, 14, 50)        0         \n",
      "                                                                 \n",
      " batch_normalization_10 (Bat  (None, 14, 14, 50)       200       \n",
      " chNormalization)                                                \n",
      "                                                                 \n",
      " max_pooling2d_10 (MaxPoolin  (None, 7, 7, 50)         0         \n",
      " g2D)                                                            \n",
      "                                                                 \n",
      " conv2d_11 (Conv2D)          (None, 7, 7, 25)          11275     \n",
      "                                                                 \n",
      " batch_normalization_11 (Bat  (None, 7, 7, 25)         100       \n",
      " chNormalization)                                                \n",
      "                                                                 \n",
      " max_pooling2d_11 (MaxPoolin  (None, 4, 4, 25)         0         \n",
      " g2D)                                                            \n",
      "                                                                 \n",
      " flatten_3 (Flatten)         (None, 400)               0         \n",
      "                                                                 \n",
      " dense_6 (Dense)             (None, 512)               205312    \n",
      "                                                                 \n",
      " dropout_7 (Dropout)         (None, 512)               0         \n",
      "                                                                 \n",
      " dense_7 (Dense)             (None, 24)                12312     \n",
      "                                                                 \n",
      "=================================================================\n",
      "Total params: 259,864\n",
      "Trainable params: 259,584\n",
      "Non-trainable params: 280\n",
      "_________________________________________________________________\n"
     ]
    }
   ],
   "source": [
    "#Model Summarization and Compiling\n",
    "model.summary()\n",
    "model.compile(loss=\"categorical_crossentropy\", metrics=[\"accuracy\"])"
   ]
  },
  {
   "cell_type": "code",
   "execution_count": 15,
   "metadata": {},
   "outputs": [
    {
     "name": "stdout",
     "output_type": "stream",
     "text": [
      "Epoch 1/50\n",
      "858/858 [==============================] - 31s 36ms/step - loss: 0.3296 - accuracy: 0.8984 - val_loss: 0.3983 - val_accuracy: 0.8712\n",
      "Epoch 2/50\n",
      "858/858 [==============================] - 30s 35ms/step - loss: 0.0227 - accuracy: 0.9923 - val_loss: 0.1928 - val_accuracy: 0.9463\n",
      "Epoch 3/50\n",
      "858/858 [==============================] - 30s 35ms/step - loss: 0.0087 - accuracy: 0.9972 - val_loss: 0.3828 - val_accuracy: 0.8964\n",
      "Epoch 4/50\n",
      "858/858 [==============================] - 30s 35ms/step - loss: 0.0054 - accuracy: 0.9982 - val_loss: 0.4888 - val_accuracy: 0.8808\n",
      "Epoch 5/50\n",
      "858/858 [==============================] - 30s 35ms/step - loss: 0.0050 - accuracy: 0.9985 - val_loss: 0.1091 - val_accuracy: 0.9699\n",
      "Epoch 6/50\n",
      "858/858 [==============================] - 30s 35ms/step - loss: 0.0022 - accuracy: 0.9993 - val_loss: 0.2676 - val_accuracy: 0.9370\n",
      "Epoch 7/50\n",
      "858/858 [==============================] - 30s 35ms/step - loss: 0.0034 - accuracy: 0.9989 - val_loss: 0.1974 - val_accuracy: 0.9470\n",
      "Epoch 8/50\n",
      "858/858 [==============================] - 30s 35ms/step - loss: 0.0020 - accuracy: 0.9994 - val_loss: 0.1982 - val_accuracy: 0.9579\n",
      "Epoch 9/50\n",
      "858/858 [==============================] - 30s 35ms/step - loss: 8.1851e-04 - accuracy: 0.9997 - val_loss: 0.1444 - val_accuracy: 0.9656\n",
      "Epoch 10/50\n",
      "858/858 [==============================] - 30s 35ms/step - loss: 7.5706e-04 - accuracy: 0.9998 - val_loss: 0.2487 - val_accuracy: 0.9484\n",
      "Epoch 11/50\n",
      "858/858 [==============================] - 31s 36ms/step - loss: 0.0011 - accuracy: 0.9995 - val_loss: 0.2596 - val_accuracy: 0.9462\n",
      "Epoch 12/50\n",
      "858/858 [==============================] - 32s 37ms/step - loss: 6.2572e-04 - accuracy: 0.9997 - val_loss: 0.2958 - val_accuracy: 0.9410\n",
      "Epoch 13/50\n",
      "858/858 [==============================] - 32s 37ms/step - loss: 0.0012 - accuracy: 0.9995 - val_loss: 0.3363 - val_accuracy: 0.9368\n",
      "Epoch 14/50\n",
      "858/858 [==============================] - 32s 37ms/step - loss: 7.0584e-04 - accuracy: 0.9999 - val_loss: 0.1874 - val_accuracy: 0.9671\n",
      "Epoch 15/50\n",
      "858/858 [==============================] - 32s 37ms/step - loss: 3.3906e-04 - accuracy: 0.9999 - val_loss: 0.4141 - val_accuracy: 0.9395\n",
      "Epoch 16/50\n",
      "858/858 [==============================] - 32s 37ms/step - loss: 6.9511e-04 - accuracy: 0.9998 - val_loss: 0.2080 - val_accuracy: 0.9580\n",
      "Epoch 17/50\n",
      "858/858 [==============================] - 32s 37ms/step - loss: 1.5329e-04 - accuracy: 1.0000 - val_loss: 0.1690 - val_accuracy: 0.9597\n",
      "Epoch 18/50\n",
      "858/858 [==============================] - 32s 37ms/step - loss: 9.4475e-05 - accuracy: 1.0000 - val_loss: 0.1579 - val_accuracy: 0.9695\n",
      "Epoch 19/50\n",
      "858/858 [==============================] - 32s 38ms/step - loss: 1.2719e-05 - accuracy: 1.0000 - val_loss: 0.2363 - val_accuracy: 0.9428\n",
      "Epoch 20/50\n",
      "858/858 [==============================] - 33s 38ms/step - loss: 4.2245e-04 - accuracy: 0.9999 - val_loss: 0.2283 - val_accuracy: 0.9508\n",
      "Epoch 21/50\n",
      "858/858 [==============================] - 33s 38ms/step - loss: 3.0808e-04 - accuracy: 1.0000 - val_loss: 0.1505 - val_accuracy: 0.9621\n",
      "Epoch 22/50\n",
      "858/858 [==============================] - 32s 38ms/step - loss: 3.8357e-04 - accuracy: 0.9999 - val_loss: 0.1766 - val_accuracy: 0.9605\n",
      "Epoch 23/50\n",
      "858/858 [==============================] - 32s 38ms/step - loss: 1.3870e-05 - accuracy: 1.0000 - val_loss: 0.2325 - val_accuracy: 0.9467\n",
      "Epoch 24/50\n",
      "858/858 [==============================] - 32s 38ms/step - loss: 6.2578e-05 - accuracy: 1.0000 - val_loss: 0.2179 - val_accuracy: 0.9572\n",
      "Epoch 25/50\n",
      "858/858 [==============================] - 33s 38ms/step - loss: 1.8790e-04 - accuracy: 1.0000 - val_loss: 0.1232 - val_accuracy: 0.9695\n",
      "Epoch 26/50\n",
      "858/858 [==============================] - 33s 38ms/step - loss: 9.3581e-06 - accuracy: 1.0000 - val_loss: 0.1335 - val_accuracy: 0.9697\n",
      "Epoch 27/50\n",
      "858/858 [==============================] - 33s 38ms/step - loss: 3.0883e-06 - accuracy: 1.0000 - val_loss: 0.1928 - val_accuracy: 0.9520\n",
      "Epoch 28/50\n",
      "858/858 [==============================] - 32s 38ms/step - loss: 5.8220e-05 - accuracy: 1.0000 - val_loss: 0.1499 - val_accuracy: 0.9639\n",
      "Epoch 29/50\n",
      "858/858 [==============================] - 32s 38ms/step - loss: 2.0388e-06 - accuracy: 1.0000 - val_loss: 0.1460 - val_accuracy: 0.9689\n",
      "Epoch 30/50\n",
      "858/858 [==============================] - 32s 37ms/step - loss: 1.0663e-06 - accuracy: 1.0000 - val_loss: 0.2006 - val_accuracy: 0.9618\n",
      "Epoch 31/50\n",
      "858/858 [==============================] - 32s 37ms/step - loss: 1.0552e-06 - accuracy: 1.0000 - val_loss: 0.1344 - val_accuracy: 0.9720\n",
      "Epoch 32/50\n",
      "858/858 [==============================] - 32s 37ms/step - loss: 3.3767e-06 - accuracy: 1.0000 - val_loss: 0.1792 - val_accuracy: 0.9612\n",
      "Epoch 33/50\n",
      "858/858 [==============================] - 32s 37ms/step - loss: 4.2172e-05 - accuracy: 1.0000 - val_loss: 0.1294 - val_accuracy: 0.9683\n",
      "Epoch 34/50\n",
      "858/858 [==============================] - 32s 37ms/step - loss: 7.7902e-06 - accuracy: 1.0000 - val_loss: 0.1199 - val_accuracy: 0.9685\n",
      "Epoch 35/50\n",
      "858/858 [==============================] - 31s 36ms/step - loss: 1.7783e-06 - accuracy: 1.0000 - val_loss: 0.1952 - val_accuracy: 0.9584\n",
      "Epoch 36/50\n",
      "858/858 [==============================] - 31s 37ms/step - loss: 1.1645e-06 - accuracy: 1.0000 - val_loss: 0.1472 - val_accuracy: 0.9682\n",
      "Epoch 37/50\n",
      "858/858 [==============================] - 31s 36ms/step - loss: 1.4106e-05 - accuracy: 1.0000 - val_loss: 0.1642 - val_accuracy: 0.9629\n",
      "Epoch 38/50\n",
      "858/858 [==============================] - 31s 36ms/step - loss: 4.2733e-06 - accuracy: 1.0000 - val_loss: 0.1631 - val_accuracy: 0.9703\n",
      "Epoch 39/50\n",
      "858/858 [==============================] - 31s 36ms/step - loss: 1.3183e-06 - accuracy: 1.0000 - val_loss: 0.1716 - val_accuracy: 0.9675\n",
      "Epoch 40/50\n",
      "858/858 [==============================] - 31s 36ms/step - loss: 1.8734e-06 - accuracy: 1.0000 - val_loss: 0.1691 - val_accuracy: 0.9624\n",
      "Epoch 41/50\n",
      "858/858 [==============================] - 31s 36ms/step - loss: 9.2783e-05 - accuracy: 0.9999 - val_loss: 0.2373 - val_accuracy: 0.9552\n",
      "Epoch 42/50\n",
      "858/858 [==============================] - 31s 36ms/step - loss: 9.5220e-06 - accuracy: 1.0000 - val_loss: 0.1845 - val_accuracy: 0.9711\n",
      "Epoch 43/50\n",
      "858/858 [==============================] - 31s 36ms/step - loss: 1.9455e-06 - accuracy: 1.0000 - val_loss: 0.1785 - val_accuracy: 0.9697\n",
      "Epoch 44/50\n",
      "858/858 [==============================] - 31s 36ms/step - loss: 4.6031e-05 - accuracy: 1.0000 - val_loss: 0.2179 - val_accuracy: 0.9612\n",
      "Epoch 45/50\n",
      "858/858 [==============================] - 31s 36ms/step - loss: 1.3504e-05 - accuracy: 1.0000 - val_loss: 0.1350 - val_accuracy: 0.9721\n",
      "Epoch 46/50\n",
      "858/858 [==============================] - 31s 36ms/step - loss: 6.4966e-07 - accuracy: 1.0000 - val_loss: 0.1364 - val_accuracy: 0.9696\n",
      "Epoch 47/50\n",
      "858/858 [==============================] - 31s 36ms/step - loss: 2.9791e-05 - accuracy: 1.0000 - val_loss: 0.1565 - val_accuracy: 0.9605\n",
      "Epoch 48/50\n",
      "858/858 [==============================] - 31s 36ms/step - loss: 1.5483e-04 - accuracy: 0.9999 - val_loss: 0.1429 - val_accuracy: 0.9678\n",
      "Epoch 49/50\n",
      "858/858 [==============================] - 32s 37ms/step - loss: 4.2947e-05 - accuracy: 1.0000 - val_loss: 0.2750 - val_accuracy: 0.9434\n",
      "Epoch 50/50\n",
      "858/858 [==============================] - 32s 37ms/step - loss: 6.2272e-06 - accuracy: 1.0000 - val_loss: 0.1616 - val_accuracy: 0.9622\n"
     ]
    },
    {
     "data": {
      "text/plain": [
       "<keras.callbacks.History at 0x7f907c2d6710>"
      ]
     },
     "execution_count": 15,
     "metadata": {},
     "output_type": "execute_result"
    }
   ],
   "source": [
    "#Model Training\n",
    "model.fit(x_train, y_train, epochs=50, verbose=1, validation_data=(x_valid, y_valid))"
   ]
  }
 ],
 "metadata": {
  "kernelspec": {
   "display_name": "base",
   "language": "python",
   "name": "python3"
  },
  "language_info": {
   "codemirror_mode": {
    "name": "ipython",
    "version": 3
   },
   "file_extension": ".py",
   "mimetype": "text/x-python",
   "name": "python",
   "nbconvert_exporter": "python",
   "pygments_lexer": "ipython3",
   "version": "3.11.5"
  }
 },
 "nbformat": 4,
 "nbformat_minor": 2
}
